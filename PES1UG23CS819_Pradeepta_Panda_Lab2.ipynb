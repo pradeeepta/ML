{
  "nbformat": 4,
  "nbformat_minor": 0,
  "metadata": {
    "colab": {
      "provenance": [],
      "authorship_tag": "ABX9TyNszjw4KsqZHVMfjjGwGSkI",
      "include_colab_link": true
    },
    "kernelspec": {
      "name": "python3",
      "display_name": "Python 3"
    },
    "language_info": {
      "name": "python"
    }
  },
  "cells": [
    {
      "cell_type": "markdown",
      "metadata": {
        "id": "view-in-github",
        "colab_type": "text"
      },
      "source": [
        "<a href=\"https://colab.research.google.com/github/pradeeepta/ML/blob/main/PES1UG23CS819_Pradeepta_Panda_Lab2.ipynb\" target=\"_parent\"><img src=\"https://colab.research.google.com/assets/colab-badge.svg\" alt=\"Open In Colab\"/></a>"
      ]
    },
    {
      "cell_type": "code",
      "execution_count": 1,
      "metadata": {
        "colab": {
          "base_uri": "https://localhost:8080/"
        },
        "id": "UjVwRWu8U86B",
        "outputId": "9d9551dc-b51b-4240-f14c-28c173ec6a64"
      },
      "outputs": [
        {
          "output_type": "stream",
          "name": "stdout",
          "text": [
            "Looking in indexes: https://download.pytorch.org/whl/cu121\n",
            "Requirement already satisfied: torch in /usr/local/lib/python3.10/dist-packages (2.3.1+cu121)\n",
            "Requirement already satisfied: torchvision in /usr/local/lib/python3.10/dist-packages (0.18.1+cu121)\n",
            "Requirement already satisfied: torchaudio in /usr/local/lib/python3.10/dist-packages (2.3.1+cu121)\n",
            "Requirement already satisfied: filelock in /usr/local/lib/python3.10/dist-packages (from torch) (3.15.4)\n",
            "Requirement already satisfied: typing-extensions>=4.8.0 in /usr/local/lib/python3.10/dist-packages (from torch) (4.12.2)\n",
            "Requirement already satisfied: sympy in /usr/local/lib/python3.10/dist-packages (from torch) (1.13.1)\n",
            "Requirement already satisfied: networkx in /usr/local/lib/python3.10/dist-packages (from torch) (3.3)\n",
            "Requirement already satisfied: jinja2 in /usr/local/lib/python3.10/dist-packages (from torch) (3.1.4)\n",
            "Requirement already satisfied: fsspec in /usr/local/lib/python3.10/dist-packages (from torch) (2024.6.1)\n",
            "Collecting nvidia-cuda-nvrtc-cu12==12.1.105 (from torch)\n",
            "  Downloading https://download.pytorch.org/whl/cu121/nvidia_cuda_nvrtc_cu12-12.1.105-py3-none-manylinux1_x86_64.whl (23.7 MB)\n",
            "\u001b[2K     \u001b[90m━━━━━━━━━━━━━━━━━━━━━━━━━━━━━━━━━━━━━━━━\u001b[0m \u001b[32m23.7/23.7 MB\u001b[0m \u001b[31m43.2 MB/s\u001b[0m eta \u001b[36m0:00:00\u001b[0m\n",
            "\u001b[?25hCollecting nvidia-cuda-runtime-cu12==12.1.105 (from torch)\n",
            "  Downloading https://download.pytorch.org/whl/cu121/nvidia_cuda_runtime_cu12-12.1.105-py3-none-manylinux1_x86_64.whl (823 kB)\n",
            "\u001b[2K     \u001b[90m━━━━━━━━━━━━━━━━━━━━━━━━━━━━━━━━━━━━━━━━\u001b[0m \u001b[32m823.6/823.6 kB\u001b[0m \u001b[31m29.3 MB/s\u001b[0m eta \u001b[36m0:00:00\u001b[0m\n",
            "\u001b[?25hCollecting nvidia-cuda-cupti-cu12==12.1.105 (from torch)\n",
            "  Downloading https://download.pytorch.org/whl/cu121/nvidia_cuda_cupti_cu12-12.1.105-py3-none-manylinux1_x86_64.whl (14.1 MB)\n",
            "\u001b[2K     \u001b[90m━━━━━━━━━━━━━━━━━━━━━━━━━━━━━━━━━━━━━━━━\u001b[0m \u001b[32m14.1/14.1 MB\u001b[0m \u001b[31m63.8 MB/s\u001b[0m eta \u001b[36m0:00:00\u001b[0m\n",
            "\u001b[?25hCollecting nvidia-cudnn-cu12==8.9.2.26 (from torch)\n",
            "  Downloading https://download.pytorch.org/whl/cu121/nvidia_cudnn_cu12-8.9.2.26-py3-none-manylinux1_x86_64.whl (731.7 MB)\n",
            "\u001b[2K     \u001b[90m━━━━━━━━━━━━━━━━━━━━━━━━━━━━━━━━━━━━━━━━\u001b[0m \u001b[32m731.7/731.7 MB\u001b[0m \u001b[31m835.5 kB/s\u001b[0m eta \u001b[36m0:00:00\u001b[0m\n",
            "\u001b[?25hCollecting nvidia-cublas-cu12==12.1.3.1 (from torch)\n",
            "  Downloading https://download.pytorch.org/whl/cu121/nvidia_cublas_cu12-12.1.3.1-py3-none-manylinux1_x86_64.whl (410.6 MB)\n",
            "\u001b[2K     \u001b[90m━━━━━━━━━━━━━━━━━━━━━━━━━━━━━━━━━━━━━━━━\u001b[0m \u001b[32m410.6/410.6 MB\u001b[0m \u001b[31m4.1 MB/s\u001b[0m eta \u001b[36m0:00:00\u001b[0m\n",
            "\u001b[?25hCollecting nvidia-cufft-cu12==11.0.2.54 (from torch)\n",
            "  Downloading https://download.pytorch.org/whl/cu121/nvidia_cufft_cu12-11.0.2.54-py3-none-manylinux1_x86_64.whl (121.6 MB)\n",
            "\u001b[2K     \u001b[90m━━━━━━━━━━━━━━━━━━━━━━━━━━━━━━━━━━━━━━━━\u001b[0m \u001b[32m121.6/121.6 MB\u001b[0m \u001b[31m7.8 MB/s\u001b[0m eta \u001b[36m0:00:00\u001b[0m\n",
            "\u001b[?25hCollecting nvidia-curand-cu12==10.3.2.106 (from torch)\n",
            "  Downloading https://download.pytorch.org/whl/cu121/nvidia_curand_cu12-10.3.2.106-py3-none-manylinux1_x86_64.whl (56.5 MB)\n",
            "\u001b[2K     \u001b[90m━━━━━━━━━━━━━━━━━━━━━━━━━━━━━━━━━━━━━━━━\u001b[0m \u001b[32m56.5/56.5 MB\u001b[0m \u001b[31m11.7 MB/s\u001b[0m eta \u001b[36m0:00:00\u001b[0m\n",
            "\u001b[?25hCollecting nvidia-cusolver-cu12==11.4.5.107 (from torch)\n",
            "  Downloading https://download.pytorch.org/whl/cu121/nvidia_cusolver_cu12-11.4.5.107-py3-none-manylinux1_x86_64.whl (124.2 MB)\n",
            "\u001b[2K     \u001b[90m━━━━━━━━━━━━━━━━━━━━━━━━━━━━━━━━━━━━━━━━\u001b[0m \u001b[32m124.2/124.2 MB\u001b[0m \u001b[31m7.3 MB/s\u001b[0m eta \u001b[36m0:00:00\u001b[0m\n",
            "\u001b[?25hCollecting nvidia-cusparse-cu12==12.1.0.106 (from torch)\n",
            "  Downloading https://download.pytorch.org/whl/cu121/nvidia_cusparse_cu12-12.1.0.106-py3-none-manylinux1_x86_64.whl (196.0 MB)\n",
            "\u001b[2K     \u001b[90m━━━━━━━━━━━━━━━━━━━━━━━━━━━━━━━━━━━━━━━━\u001b[0m \u001b[32m196.0/196.0 MB\u001b[0m \u001b[31m5.9 MB/s\u001b[0m eta \u001b[36m0:00:00\u001b[0m\n",
            "\u001b[?25hCollecting nvidia-nccl-cu12==2.20.5 (from torch)\n",
            "  Downloading https://download.pytorch.org/whl/cu121/nvidia_nccl_cu12-2.20.5-py3-none-manylinux2014_x86_64.whl (176.2 MB)\n",
            "\u001b[2K     \u001b[90m━━━━━━━━━━━━━━━━━━━━━━━━━━━━━━━━━━━━━━━━\u001b[0m \u001b[32m176.2/176.2 MB\u001b[0m \u001b[31m6.0 MB/s\u001b[0m eta \u001b[36m0:00:00\u001b[0m\n",
            "\u001b[?25hCollecting nvidia-nvtx-cu12==12.1.105 (from torch)\n",
            "  Downloading https://download.pytorch.org/whl/cu121/nvidia_nvtx_cu12-12.1.105-py3-none-manylinux1_x86_64.whl (99 kB)\n",
            "\u001b[2K     \u001b[90m━━━━━━━━━━━━━━━━━━━━━━━━━━━━━━━━━━━━━━━━\u001b[0m \u001b[32m99.1/99.1 kB\u001b[0m \u001b[31m7.0 MB/s\u001b[0m eta \u001b[36m0:00:00\u001b[0m\n",
            "\u001b[?25hRequirement already satisfied: triton==2.3.1 in /usr/local/lib/python3.10/dist-packages (from torch) (2.3.1)\n",
            "Collecting nvidia-nvjitlink-cu12 (from nvidia-cusolver-cu12==11.4.5.107->torch)\n",
            "  Downloading https://download.pytorch.org/whl/cu121/nvidia_nvjitlink_cu12-12.1.105-py3-none-manylinux1_x86_64.whl (19.8 MB)\n",
            "\u001b[2K     \u001b[90m━━━━━━━━━━━━━━━━━━━━━━━━━━━━━━━━━━━━━━━━\u001b[0m \u001b[32m19.8/19.8 MB\u001b[0m \u001b[31m67.7 MB/s\u001b[0m eta \u001b[36m0:00:00\u001b[0m\n",
            "\u001b[?25hRequirement already satisfied: numpy in /usr/local/lib/python3.10/dist-packages (from torchvision) (1.26.4)\n",
            "Requirement already satisfied: pillow!=8.3.*,>=5.3.0 in /usr/local/lib/python3.10/dist-packages (from torchvision) (9.4.0)\n",
            "Requirement already satisfied: MarkupSafe>=2.0 in /usr/local/lib/python3.10/dist-packages (from jinja2->torch) (2.1.5)\n",
            "Requirement already satisfied: mpmath<1.4,>=1.1.0 in /usr/local/lib/python3.10/dist-packages (from sympy->torch) (1.3.0)\n",
            "Installing collected packages: nvidia-nvtx-cu12, nvidia-nvjitlink-cu12, nvidia-nccl-cu12, nvidia-curand-cu12, nvidia-cufft-cu12, nvidia-cuda-runtime-cu12, nvidia-cuda-nvrtc-cu12, nvidia-cuda-cupti-cu12, nvidia-cublas-cu12, nvidia-cusparse-cu12, nvidia-cudnn-cu12, nvidia-cusolver-cu12\n",
            "Successfully installed nvidia-cublas-cu12-12.1.3.1 nvidia-cuda-cupti-cu12-12.1.105 nvidia-cuda-nvrtc-cu12-12.1.105 nvidia-cuda-runtime-cu12-12.1.105 nvidia-cudnn-cu12-8.9.2.26 nvidia-cufft-cu12-11.0.2.54 nvidia-curand-cu12-10.3.2.106 nvidia-cusolver-cu12-11.4.5.107 nvidia-cusparse-cu12-12.1.0.106 nvidia-nccl-cu12-2.20.5 nvidia-nvjitlink-cu12-12.1.105 nvidia-nvtx-cu12-12.1.105\n"
          ]
        }
      ],
      "source": [
        "pip install torch torchvision torchaudio --index-url https://download.pytorch.org/whl/cu121"
      ]
    },
    {
      "cell_type": "markdown",
      "source": [
        "# **Tensors**"
      ],
      "metadata": {
        "id": "w2-YPJJAVoMR"
      }
    },
    {
      "cell_type": "markdown",
      "source": [
        "Tensor Creation"
      ],
      "metadata": {
        "id": "ImoHixl7YLQI"
      }
    },
    {
      "cell_type": "code",
      "source": [
        "import torch"
      ],
      "metadata": {
        "id": "u9IIV6gNVtmt"
      },
      "execution_count": 2,
      "outputs": []
    },
    {
      "cell_type": "code",
      "source": [
        "#Directly from data\n",
        "data = [[1, 2], [3, 4]]\n",
        "x_data = torch.tensor(data)\n",
        "print(x_data)"
      ],
      "metadata": {
        "colab": {
          "base_uri": "https://localhost:8080/"
        },
        "id": "gNTOj1l5VyOj",
        "outputId": "b41add02-a57a-4b7a-d516-5594805b9eb0"
      },
      "execution_count": 3,
      "outputs": [
        {
          "output_type": "stream",
          "name": "stdout",
          "text": [
            "tensor([[1, 2],\n",
            "        [3, 4]])\n"
          ]
        }
      ]
    },
    {
      "cell_type": "code",
      "source": [
        "# From Numpy array\n",
        "import numpy as np\n",
        "np_array = np.array(data)\n",
        "x_np = torch.from_numpy(np_array)\n",
        "print(x_np)"
      ],
      "metadata": {
        "colab": {
          "base_uri": "https://localhost:8080/"
        },
        "id": "ory9Z-SnV04W",
        "outputId": "0784440f-7ee8-48be-97e9-b8c0bdf48e21"
      },
      "execution_count": 4,
      "outputs": [
        {
          "output_type": "stream",
          "name": "stdout",
          "text": [
            "tensor([[1, 2],\n",
            "        [3, 4]])\n"
          ]
        }
      ]
    },
    {
      "cell_type": "code",
      "source": [
        "# From other tensors\n",
        "x_ones = torch.ones_like(x_data) # retains the properties of x_data\n",
        "print(f\"Ones Tensor: \\n {x_ones} \\n\")\n",
        "x_rand = torch.rand_like(x_data, dtype=torch.float) # overrides the datatype of x_data\n",
        "print(f\"Random Tensor: \\n {x_rand} \\n\")"
      ],
      "metadata": {
        "colab": {
          "base_uri": "https://localhost:8080/"
        },
        "id": "InmQfe78V31O",
        "outputId": "b89eea6c-cc9e-44bb-d1e0-260a39102e27"
      },
      "execution_count": 5,
      "outputs": [
        {
          "output_type": "stream",
          "name": "stdout",
          "text": [
            "Ones Tensor: \n",
            " tensor([[1, 1],\n",
            "        [1, 1]]) \n",
            "\n",
            "Random Tensor: \n",
            " tensor([[0.7125, 0.9305],\n",
            "        [0.9812, 0.6456]]) \n",
            "\n"
          ]
        }
      ]
    },
    {
      "cell_type": "code",
      "source": [
        "# Populating tensors with random/constant values\n",
        "\n",
        "shape = (2, 3,) # tuple of tensor dimensions\n",
        "ones_tensor = torch.ones(shape)\n",
        "zeros_tensor = torch.zeros(shape)\n",
        "torch.manual_seed(1789)\n",
        "rand_tensor = torch.rand(shape)\n",
        "empty_tensor = torch.empty(shape) # memory is allocated, tensor populated with garbage- values\n",
        "print(f\"Random Tensor: \\n {rand_tensor} \\n\")\n",
        "print(f\"Ones Tensor: \\n {ones_tensor} \\n\")\n",
        "print(f\"Zeros Tensor: \\n {zeros_tensor}\")\n",
        "print(f\"Empty Tensor: \\n {empty_tensor}\")\n"
      ],
      "metadata": {
        "colab": {
          "base_uri": "https://localhost:8080/"
        },
        "id": "3OQy16wCV6nM",
        "outputId": "7520730f-d6e6-4a23-adf6-68917977b947"
      },
      "execution_count": 6,
      "outputs": [
        {
          "output_type": "stream",
          "name": "stdout",
          "text": [
            "Random Tensor: \n",
            " tensor([[0.9631, 0.4014, 0.7564],\n",
            "        [0.5782, 0.5438, 0.1929]]) \n",
            "\n",
            "Ones Tensor: \n",
            " tensor([[1., 1., 1.],\n",
            "        [1., 1., 1.]]) \n",
            "\n",
            "Zeros Tensor: \n",
            " tensor([[0., 0., 0.],\n",
            "        [0., 0., 0.]])\n",
            "Empty Tensor: \n",
            " tensor([[4.6903e+01, 4.5495e-41, 4.6903e+01],\n",
            "        [4.5495e-41, 4.3818e+11, 4.5493e-41]])\n"
          ]
        }
      ]
    },
    {
      "cell_type": "markdown",
      "source": [
        "# **Tensor** **Attributes**"
      ],
      "metadata": {
        "id": "AbsMBzDPV-Gk"
      }
    },
    {
      "cell_type": "markdown",
      "source": [
        "1.Shape"
      ],
      "metadata": {
        "id": "Jg5x8ZGHZqxq"
      }
    },
    {
      "cell_type": "code",
      "source": [
        "x = torch.empty(2, 2, 3)\n",
        "print(x.shape,\"\\n\")\n",
        "print(x)\n",
        ""
      ],
      "metadata": {
        "colab": {
          "base_uri": "https://localhost:8080/"
        },
        "id": "PMy5vEOoWCir",
        "outputId": "e6b740f4-0d7f-4b8b-f999-3dd6bc994a4a"
      },
      "execution_count": 7,
      "outputs": [
        {
          "output_type": "stream",
          "name": "stdout",
          "text": [
            "torch.Size([2, 2, 3]) \n",
            "\n",
            "tensor([[[4.6904e+01, 4.5495e-41, 3.4376e+27],\n",
            "         [3.2800e-41, 3.4373e+27, 3.2800e-41]],\n",
            "\n",
            "        [[0.0000e+00, 0.0000e+00, 0.0000e+00],\n",
            "         [0.0000e+00, 3.4387e+27, 3.2800e-41]]])\n"
          ]
        }
      ]
    },
    {
      "cell_type": "markdown",
      "source": [
        "2.DataType"
      ],
      "metadata": {
        "id": "iUcFuWMYZwju"
      }
    },
    {
      "cell_type": "code",
      "source": [
        "a = torch.ones((2, 3), dtype=torch.int16)\n",
        "print(a.dtype)\n",
        "a = torch.ones((2, 3), dtype=torch.float64)\n",
        "print(a.dtype)\n",
        "a = torch.ones((2, 3), dtype=torch.int8)\n",
        "print(a.dtype)\n",
        "a = torch.ones((2, 3), dtype=torch.int32)\n",
        "print(a.dtype)\n",
        "a = torch.ones((2, 3), dtype=torch.int64)\n",
        "print(a.dtype)\n",
        "a = torch.ones((2, 3), dtype=torch.bool)\n",
        "print(a.dtype)\n"
      ],
      "metadata": {
        "colab": {
          "base_uri": "https://localhost:8080/"
        },
        "id": "TkKupTavWGLJ",
        "outputId": "b9425da8-8916-45e7-bb48-dc1a00ba4fcb"
      },
      "execution_count": 8,
      "outputs": [
        {
          "output_type": "stream",
          "name": "stdout",
          "text": [
            "torch.int16\n",
            "torch.float64\n",
            "torch.int8\n",
            "torch.int32\n",
            "torch.int64\n",
            "torch.bool\n"
          ]
        }
      ]
    },
    {
      "cell_type": "markdown",
      "source": [
        "3.Device"
      ],
      "metadata": {
        "id": "XsqNog-iZ0SN"
      }
    },
    {
      "cell_type": "code",
      "source": [
        "# Create a tensor\n",
        "tensor = torch.rand(3, 2)\n",
        "print(f\"Device tensor is initially stored on: {tensor.device}\")\n",
        "\n"
      ],
      "metadata": {
        "colab": {
          "base_uri": "https://localhost:8080/"
        },
        "id": "k0r_9MudWIxY",
        "outputId": "c2c214ef-d655-4393-c8d0-4f2c0fb6b967"
      },
      "execution_count": 9,
      "outputs": [
        {
          "output_type": "stream",
          "name": "stdout",
          "text": [
            "Device tensor is initially stored on: cpu\n"
          ]
        }
      ]
    },
    {
      "cell_type": "markdown",
      "source": [
        "# **Operations on** **Tensor**"
      ],
      "metadata": {
        "id": "AAeX1krTWN0y"
      }
    },
    {
      "cell_type": "code",
      "source": [
        "# Check if GPU is available and move tensor to GPU if it is\n",
        "if torch.cuda.is_available():\n",
        "    tensor = tensor.to(\"cuda\")\n",
        "    print(f\"Device tensor is now stored on: {tensor.device}\")\n",
        "else:\n",
        "    print(\"CUDA is not available. Tensor remains on CPU.\")"
      ],
      "metadata": {
        "colab": {
          "base_uri": "https://localhost:8080/"
        },
        "id": "Vhys8LhZWVcE",
        "outputId": "fa9b1a3b-2e52-4b9b-90e7-aad0cd9bbb3d"
      },
      "execution_count": 10,
      "outputs": [
        {
          "output_type": "stream",
          "name": "stdout",
          "text": [
            "CUDA is not available. Tensor remains on CPU.\n"
          ]
        }
      ]
    },
    {
      "cell_type": "markdown",
      "source": [
        "**Numpy-like Indexing and Slicing**"
      ],
      "metadata": {
        "id": "QBbfww--X1Sq"
      }
    },
    {
      "cell_type": "code",
      "source": [
        "tensor = torch.ones(4, 4)\n",
        "print(f\"First row: {tensor[0]}\",\"\\n\")\n",
        "print(f\"First column: {tensor[:, 0]}\",\"\\n\")\n",
        "print(f\"Last column: {tensor[:, -1]}\",\"\\n\")\n",
        "tensor[:,1] = 0 # set all elements in second column to 0\n",
        "print(tensor)\n"
      ],
      "metadata": {
        "colab": {
          "base_uri": "https://localhost:8080/"
        },
        "id": "6oF-mytfXw0-",
        "outputId": "19fed48f-8799-4bed-919b-c13157ec88c7"
      },
      "execution_count": 11,
      "outputs": [
        {
          "output_type": "stream",
          "name": "stdout",
          "text": [
            "First row: tensor([1., 1., 1., 1.]) \n",
            "\n",
            "First column: tensor([1., 1., 1., 1.]) \n",
            "\n",
            "Last column: tensor([1., 1., 1., 1.]) \n",
            "\n",
            "tensor([[1., 0., 1., 1.],\n",
            "        [1., 0., 1., 1.],\n",
            "        [1., 0., 1., 1.],\n",
            "        [1., 0., 1., 1.]])\n"
          ]
        }
      ]
    },
    {
      "cell_type": "markdown",
      "source": [
        "Arithmetic operations"
      ],
      "metadata": {
        "id": "ENZ6jgUHaHSO"
      }
    },
    {
      "cell_type": "code",
      "source": [
        "ones = torch.zeros(2, 2) + 1 # adding 1 to a tensor of zeros\n",
        "twos = torch.ones(2, 2) * 2 # multiplying a tensor of ones by 2\n",
        "threes = (torch.ones(2, 2) * 7 - 1) / 2 # chaining operations\n",
        "fours = twos ** 2 # squaring a tensor\n",
        "sqrt2s = twos ** 0.5 # square root of a tensor\n",
        "\n",
        "print(ones,\"\\n\")\n",
        "print(twos,\"\\n\")\n",
        "print(threes,\"\\n\")\n",
        "print(fours,\"\\n\")\n",
        "print(sqrt2s,\"\\n\")\n",
        "\n",
        "\n",
        "\n"
      ],
      "metadata": {
        "colab": {
          "base_uri": "https://localhost:8080/"
        },
        "id": "f58xXq1oaJiD",
        "outputId": "8ab5cb2a-9666-47a8-f496-6490b734f5df"
      },
      "execution_count": 12,
      "outputs": [
        {
          "output_type": "stream",
          "name": "stdout",
          "text": [
            "tensor([[1., 1.],\n",
            "        [1., 1.]]) \n",
            "\n",
            "tensor([[2., 2.],\n",
            "        [2., 2.]]) \n",
            "\n",
            "tensor([[3., 3.],\n",
            "        [3., 3.]]) \n",
            "\n",
            "tensor([[4., 4.],\n",
            "        [4., 4.]]) \n",
            "\n",
            "tensor([[1.4142, 1.4142],\n",
            "        [1.4142, 1.4142]]) \n",
            "\n"
          ]
        }
      ]
    },
    {
      "cell_type": "markdown",
      "source": [
        "\n",
        "Similar operations can be performed between two tensors:"
      ],
      "metadata": {
        "id": "NLQ1THcXaQJr"
      }
    },
    {
      "cell_type": "code",
      "source": [
        "powers2 = twos ** torch.tensor([[1, 2], [3, 4]]) # element-wise exponentiation\n",
        "print(powers2,\"\\n\")\n",
        "fives = ones + fours # element-wise addition\n",
        "print(fives,\"\\n\")\n",
        "dozens = threes * fours # element-wise multiplication\n",
        "print(dozens,\"\\n\")"
      ],
      "metadata": {
        "colab": {
          "base_uri": "https://localhost:8080/"
        },
        "id": "q0zeJu60aRaq",
        "outputId": "b948b959-3937-4bfc-ef0a-033599404c96"
      },
      "execution_count": 13,
      "outputs": [
        {
          "output_type": "stream",
          "name": "stdout",
          "text": [
            "tensor([[ 2.,  4.],\n",
            "        [ 8., 16.]]) \n",
            "\n",
            "tensor([[5., 5.],\n",
            "        [5., 5.]]) \n",
            "\n",
            "tensor([[12., 12.],\n",
            "        [12., 12.]]) \n",
            "\n"
          ]
        }
      ]
    },
    {
      "cell_type": "markdown",
      "source": [
        "Tensor Broadcasting"
      ],
      "metadata": {
        "id": "dAndaC2faXTN"
      }
    },
    {
      "cell_type": "code",
      "source": [
        "rand = torch.rand(2, 4) # random tensor\n",
        "doubled = rand * (torch.ones(1, 4) * 2) # broadcasting\n",
        "print(rand)\n",
        "print(doubled)\n"
      ],
      "metadata": {
        "colab": {
          "base_uri": "https://localhost:8080/"
        },
        "id": "ALhz4VLbaZul",
        "outputId": "dcda0f26-38e1-45ec-fd14-3457a1c93c4c"
      },
      "execution_count": 14,
      "outputs": [
        {
          "output_type": "stream",
          "name": "stdout",
          "text": [
            "tensor([[0.2569, 0.8153, 0.3774, 0.6209],\n",
            "        [0.8973, 0.6783, 0.8594, 0.6721]])\n",
            "tensor([[0.5138, 1.6306, 0.7549, 1.2419],\n",
            "        [1.7946, 1.3567, 1.7187, 1.3442]])\n"
          ]
        }
      ]
    },
    {
      "cell_type": "code",
      "source": [
        "a = torch.ones(4, 3, 2)\n",
        "b = a * torch.rand(3, 2)\n",
        "print(b, \"\\n\") # 3rd & 2nd dims identical to a, dim 1 absent\n",
        "c = a * torch.rand(4, 1, 2)\n",
        "print(c, \"\\n\") # 3rd dim = 1, 2nd dim identical to a\n",
        "d = a * torch.rand(1, 3, 2)\n",
        "print(d, \"\\n\") # 3rd dim identical to a, 2nd dim = 1\n"
      ],
      "metadata": {
        "colab": {
          "base_uri": "https://localhost:8080/"
        },
        "id": "X4NF4hA6agK3",
        "outputId": "83340b95-df40-4051-9a61-5c4d112b17cc"
      },
      "execution_count": 15,
      "outputs": [
        {
          "output_type": "stream",
          "name": "stdout",
          "text": [
            "tensor([[[0.4544, 0.6353],\n",
            "         [0.5914, 0.9689],\n",
            "         [0.5715, 0.7136]],\n",
            "\n",
            "        [[0.4544, 0.6353],\n",
            "         [0.5914, 0.9689],\n",
            "         [0.5715, 0.7136]],\n",
            "\n",
            "        [[0.4544, 0.6353],\n",
            "         [0.5914, 0.9689],\n",
            "         [0.5715, 0.7136]],\n",
            "\n",
            "        [[0.4544, 0.6353],\n",
            "         [0.5914, 0.9689],\n",
            "         [0.5715, 0.7136]]]) \n",
            "\n",
            "tensor([[[0.4606, 0.7056],\n",
            "         [0.4606, 0.7056],\n",
            "         [0.4606, 0.7056]],\n",
            "\n",
            "        [[0.5921, 0.0557],\n",
            "         [0.5921, 0.0557],\n",
            "         [0.5921, 0.0557]],\n",
            "\n",
            "        [[0.3866, 0.2989],\n",
            "         [0.3866, 0.2989],\n",
            "         [0.3866, 0.2989]],\n",
            "\n",
            "        [[0.8993, 0.2320],\n",
            "         [0.8993, 0.2320],\n",
            "         [0.8993, 0.2320]]]) \n",
            "\n",
            "tensor([[[0.2450, 0.1956],\n",
            "         [0.8150, 0.1024],\n",
            "         [0.2813, 0.7884]],\n",
            "\n",
            "        [[0.2450, 0.1956],\n",
            "         [0.8150, 0.1024],\n",
            "         [0.2813, 0.7884]],\n",
            "\n",
            "        [[0.2450, 0.1956],\n",
            "         [0.8150, 0.1024],\n",
            "         [0.2813, 0.7884]],\n",
            "\n",
            "        [[0.2450, 0.1956],\n",
            "         [0.8150, 0.1024],\n",
            "         [0.2813, 0.7884]]]) \n",
            "\n"
          ]
        }
      ]
    },
    {
      "cell_type": "markdown",
      "source": [
        "# Common Functions"
      ],
      "metadata": {
        "id": "sqi3gj0FakdI"
      }
    },
    {
      "cell_type": "markdown",
      "source": [
        " **Mathematical Functions**"
      ],
      "metadata": {
        "id": "gjwO-GK8apsP"
      }
    },
    {
      "cell_type": "code",
      "source": [
        "import math\n",
        "\n",
        "a = torch.rand(2, 4) * 2 - 1 # random tensor in range [-1, 1]\n",
        "print(torch.abs(a),\"\\n\") #absolute value\n",
        "print(torch.ceil(a),\"\\n\") #ceiling\n",
        "print(torch.floor(a),\"\\n\") #floor\n",
        "print(torch.clamp(a, -0.5, 0.5)) #clamping: values < -0.5 set to -0.5, values > 0.5 set to 0.5\n"
      ],
      "metadata": {
        "colab": {
          "base_uri": "https://localhost:8080/"
        },
        "id": "bIYOx0iIanBk",
        "outputId": "993b97aa-a5bf-4131-9249-4180962a930a"
      },
      "execution_count": 16,
      "outputs": [
        {
          "output_type": "stream",
          "name": "stdout",
          "text": [
            "tensor([[0.8933, 0.1511, 0.7021, 0.4549],\n",
            "        [0.2857, 0.2995, 0.6397, 0.6817]]) \n",
            "\n",
            "tensor([[-0., -0., -0., -0.],\n",
            "        [1., -0., 1., -0.]]) \n",
            "\n",
            "tensor([[-1., -1., -1., -1.],\n",
            "        [ 0., -1.,  0., -1.]]) \n",
            "\n",
            "tensor([[-0.5000, -0.1511, -0.5000, -0.4549],\n",
            "        [ 0.2857, -0.2995,  0.5000, -0.5000]])\n"
          ]
        }
      ]
    },
    {
      "cell_type": "markdown",
      "source": [
        "\n",
        " **Trigonometric Functions and Their Inverses**"
      ],
      "metadata": {
        "id": "Lm40zPyOax6v"
      }
    },
    {
      "cell_type": "code",
      "source": [
        "angles = torch.tensor([0, math.pi / 4, math.pi / 2, 3 * math.pi / 4]) # angles in radians\n",
        "sines = torch.sin(angles)\n",
        "inverses = torch.asin(sines)\n",
        "print('\\nSine and arcsine:')\n",
        "print(angles,\"\\n\")\n",
        "print(sines,\"\\n\")\n",
        "print(inverses,\"\\n\")\n"
      ],
      "metadata": {
        "id": "msPHHPkxapUa"
      },
      "execution_count": null,
      "outputs": []
    },
    {
      "cell_type": "markdown",
      "source": [
        "Bitwise **Operations**"
      ],
      "metadata": {
        "id": "pF1GlQpUbEkU"
      }
    },
    {
      "cell_type": "code",
      "source": [
        "b = torch.tensor([1, 5, 11])\n",
        "c = torch.tensor([2, 7, 10])\n",
        "print(torch.bitwise_xor(b, c))\n"
      ],
      "metadata": {
        "colab": {
          "base_uri": "https://localhost:8080/"
        },
        "id": "ha2LXaa-bFjJ",
        "outputId": "c13fa957-a57f-46d2-b5c6-615df4e476b2"
      },
      "execution_count": 17,
      "outputs": [
        {
          "output_type": "stream",
          "name": "stdout",
          "text": [
            "tensor([3, 2, 1])\n"
          ]
        }
      ]
    },
    {
      "cell_type": "markdown",
      "source": [
        "**Comparisons**"
      ],
      "metadata": {
        "id": "pfEFkifZbJJA"
      }
    },
    {
      "cell_type": "code",
      "source": [
        "print('\\nBroadcasted, element-wise equality comparison:')\n",
        "d = torch.tensor([[1., 2.], [3., 4.]])\n",
        "print(d,\"\\n\")\n",
        "e = torch.ones(1, 2)  # many comparison ops support broadcasting!\n",
        "print(e,\"\\n\")\n",
        "print(torch.eq(d, e))  # returns a tensor of type bool\n"
      ],
      "metadata": {
        "colab": {
          "base_uri": "https://localhost:8080/"
        },
        "id": "rYk54xswbKCq",
        "outputId": "f1f1c6ab-60b1-4b9a-93b8-f88897de8b7f"
      },
      "execution_count": 18,
      "outputs": [
        {
          "output_type": "stream",
          "name": "stdout",
          "text": [
            "\n",
            "Broadcasted, element-wise equality comparison:\n",
            "tensor([[1., 2.],\n",
            "        [3., 4.]]) \n",
            "\n",
            "tensor([[1., 1.]]) \n",
            "\n",
            "tensor([[ True, False],\n",
            "        [False, False]])\n"
          ]
        }
      ]
    },
    {
      "cell_type": "markdown",
      "source": [
        "**Reductions**"
      ],
      "metadata": {
        "id": "wKrByD1fbR9l"
      }
    },
    {
      "cell_type": "code",
      "source": [
        "d = torch.tensor([[1., 2.], [3., 4.]])\n",
        "print(torch.max(d))\n",
        "print(torch.max(d).item())\n",
        "print(torch.mean(d))\n",
        "print(torch.std(d))\n",
        "print(torch.prod(d))\n",
        "print(torch.unique(torch.tensor([1, 2, 1, 2, 1, 2])))  # filter unique elements\n"
      ],
      "metadata": {
        "colab": {
          "base_uri": "https://localhost:8080/"
        },
        "id": "6O_zDNGJbTHA",
        "outputId": "1624caf2-fce5-447b-da76-7f00be533d4b"
      },
      "execution_count": 19,
      "outputs": [
        {
          "output_type": "stream",
          "name": "stdout",
          "text": [
            "tensor(4.)\n",
            "4.0\n",
            "tensor(2.5000)\n",
            "tensor(1.2910)\n",
            "tensor(24.)\n",
            "tensor([1, 2])\n"
          ]
        }
      ]
    },
    {
      "cell_type": "markdown",
      "source": [
        "**Vector and Linear Algebra Operations**"
      ],
      "metadata": {
        "id": "pmcAoU3Fb5MZ"
      }
    },
    {
      "cell_type": "code",
      "source": [
        "import torch\n",
        "\n",
        "v1 = torch.tensor([1., 0., 0.])  # x unit vector\n",
        "v2 = torch.tensor([0., 1., 0.])  # y unit vector\n",
        "\n",
        "# Specify dim=0 to avoid the warning\n",
        "print(torch.cross(v1, v2, dim=0), \"\\n\")  # returns cross product of vectors v1 and v2\n",
        "\n",
        "m1 = torch.rand(2, 2)  # random matrix\n",
        "m2 = torch.tensor([[3., 0.], [0., 3.]])  # three times identity matrix\n",
        "print(m1, \"\\n\")\n",
        "\n",
        "m3 = torch.matmul(m1, m2)  # same as m3 = m1@m2\n",
        "print(m3, \"\\n\")\n",
        "\n",
        "print(torch.svd(m3), \"\\n\")  # singular value decomposition\n"
      ],
      "metadata": {
        "colab": {
          "base_uri": "https://localhost:8080/"
        },
        "id": "343OCsUScE0A",
        "outputId": "fd22d698-f242-44cc-d0bd-3b9a140e9c69"
      },
      "execution_count": 21,
      "outputs": [
        {
          "output_type": "stream",
          "name": "stdout",
          "text": [
            "tensor([0., 0., 1.]) \n",
            "\n",
            "tensor([[0.5300, 0.3159],\n",
            "        [0.7081, 0.1727]]) \n",
            "\n",
            "tensor([[1.5900, 0.9478],\n",
            "        [2.1244, 0.5181]]) \n",
            "\n",
            "torch.return_types.svd(\n",
            "U=tensor([[-0.6432, -0.7657],\n",
            "        [-0.7657,  0.6432]]),\n",
            "S=tensor([2.8340, 0.4198]),\n",
            "V=tensor([[-0.9348,  0.3551],\n",
            "        [-0.3551, -0.9348]])) \n",
            "\n"
          ]
        }
      ]
    },
    {
      "cell_type": "markdown",
      "source": [
        "# Altering Tensors in Place"
      ],
      "metadata": {
        "id": "3Mbf2hArc3o1"
      }
    },
    {
      "cell_type": "code",
      "source": [
        "a = torch.tensor([0, math.pi / 4, math.pi / 2, 3 * math.pi / 4])\n",
        "print('a:')\n",
        "print(a)\n",
        "print(torch.sin(a))  # this operation creates a new tensor in memory\n",
        "print(a)  # a has not changed\n",
        "\n",
        "b = torch.tensor([0, math.pi / 4, math.pi / 2, 3 * math.pi / 4])\n",
        "print('\\nb:')\n",
        "print(b)\n",
        "print(torch.sin_(b))  # note the underscore\n",
        "print(b)  # b has changed\n"
      ],
      "metadata": {
        "colab": {
          "base_uri": "https://localhost:8080/"
        },
        "id": "EX2kwJb7c4yc",
        "outputId": "8838ae72-c973-4010-9d82-88da99a4d4d4"
      },
      "execution_count": 22,
      "outputs": [
        {
          "output_type": "stream",
          "name": "stdout",
          "text": [
            "a:\n",
            "tensor([0.0000, 0.7854, 1.5708, 2.3562])\n",
            "tensor([0.0000, 0.7071, 1.0000, 0.7071])\n",
            "tensor([0.0000, 0.7854, 1.5708, 2.3562])\n",
            "\n",
            "b:\n",
            "tensor([0.0000, 0.7854, 1.5708, 2.3562])\n",
            "tensor([0.0000, 0.7071, 1.0000, 0.7071])\n",
            "tensor([0.0000, 0.7071, 1.0000, 0.7071])\n"
          ]
        }
      ]
    },
    {
      "cell_type": "markdown",
      "source": [
        "**For Arithmetic Operations:**"
      ],
      "metadata": {
        "id": "5ZKjOpA8c-39"
      }
    },
    {
      "cell_type": "code",
      "source": [
        "a = torch.ones(2, 2)\n",
        "b = torch.rand(2, 2)\n",
        "print('Before:')\n",
        "print(a)\n",
        "print(b)\n",
        "print('\\nAfter adding:')\n",
        "print(a.add_(b))\n",
        "print(a)\n",
        "print(b)\n",
        "print('\\nAfter multiplying')\n",
        "print(b.mul_(b))\n",
        "print(b)\n"
      ],
      "metadata": {
        "colab": {
          "base_uri": "https://localhost:8080/"
        },
        "id": "o_-THWGIdCLz",
        "outputId": "a6fdc34e-ab2f-48cb-a928-3a51d48dc19e"
      },
      "execution_count": 23,
      "outputs": [
        {
          "output_type": "stream",
          "name": "stdout",
          "text": [
            "Before:\n",
            "tensor([[1., 1.],\n",
            "        [1., 1.]])\n",
            "tensor([[0.9051, 0.5988],\n",
            "        [0.2455, 0.1117]])\n",
            "\n",
            "After adding:\n",
            "tensor([[1.9051, 1.5988],\n",
            "        [1.2455, 1.1117]])\n",
            "tensor([[1.9051, 1.5988],\n",
            "        [1.2455, 1.1117]])\n",
            "tensor([[0.9051, 0.5988],\n",
            "        [0.2455, 0.1117]])\n",
            "\n",
            "After multiplying\n",
            "tensor([[0.8192, 0.3585],\n",
            "        [0.0603, 0.0125]])\n",
            "tensor([[0.8192, 0.3585],\n",
            "        [0.0603, 0.0125]])\n"
          ]
        }
      ]
    },
    {
      "cell_type": "code",
      "source": [
        "a = torch.rand(2, 2)\n",
        "b = torch.rand(2, 2)\n",
        "c = torch.zeros(2, 2)\n",
        "old_id = id(c)\n",
        "print(c,\"\\n\")\n",
        "d = torch.matmul(a, b, out=c)\n",
        "print(c,\"\\n\") # contents of c have changed\n",
        "\n",
        "assert c is d # test c & d are same object, not just containing equal values # make sure that our new c is the same object as the old one\n",
        "assert id(c) == old_id\n",
        "\n",
        "torch.rand(2, 2, out=c) # works for creation too!\n",
        "print(c,\"\\n\") # c has changed again\n",
        "\n",
        "assert id(c) == old_id # still the same object!\n",
        "\n",
        "\n",
        "\n",
        "\n"
      ],
      "metadata": {
        "colab": {
          "base_uri": "https://localhost:8080/"
        },
        "id": "uk1Tzv07dJO7",
        "outputId": "f0d93d27-9b80-4109-a136-caeedb5c2127"
      },
      "execution_count": 24,
      "outputs": [
        {
          "output_type": "stream",
          "name": "stdout",
          "text": [
            "tensor([[0., 0.],\n",
            "        [0., 0.]]) \n",
            "\n",
            "tensor([[0.2817, 0.2602],\n",
            "        [0.7920, 0.7133]]) \n",
            "\n",
            "tensor([[0.2893, 0.1629],\n",
            "        [0.1285, 0.9058]]) \n",
            "\n"
          ]
        }
      ]
    },
    {
      "cell_type": "markdown",
      "source": [
        "**Manipulating Tensor Shape**"
      ],
      "metadata": {
        "id": "fPY-QtcqdOOa"
      }
    },
    {
      "cell_type": "code",
      "source": [
        "a = torch.tensor([1, 2, 3, 4])\n",
        "a_reshaped = torch.reshape(a, (2, 2))\n",
        "print(a_reshaped,\"\\n\")\n",
        "\n",
        "b = torch.rand(56, 56)  # Consider 56x56 image\n",
        "c = b.unsqueeze(0)  # unsqueeze(i) adds dimension of length 1 at index i\n",
        "print(c,\"\\n\")  # c is now a batch of 1 image of shape 56x56\n",
        "\n",
        "d = torch.rand(1, 20)\n",
        "print(d.shape,\"\\n\")\n",
        "e = d.squeeze(0)  # squeeze(i) removes a dimension if shape[i] is 1\n",
        "print(e.shape,\"\\n\")\n",
        "\n",
        "x, y, z = torch.rand(2, 3), torch.rand(2, 3), torch.rand(2, 3)\n",
        "cat_tensor = torch.cat((x, y, z), dim=0)  # concatenates tensors along rows\n",
        "print(cat_tensor)\n"
      ],
      "metadata": {
        "colab": {
          "base_uri": "https://localhost:8080/"
        },
        "id": "oXUTf9yndRTC",
        "outputId": "dcf854fa-c909-44a9-e318-4491744ae7c6"
      },
      "execution_count": 25,
      "outputs": [
        {
          "output_type": "stream",
          "name": "stdout",
          "text": [
            "tensor([[1, 2],\n",
            "        [3, 4]]) \n",
            "\n",
            "tensor([[[0.3869, 0.3910, 0.6414,  ..., 0.6620, 0.0410, 0.4947],\n",
            "         [0.4832, 0.0296, 0.9237,  ..., 0.9733, 0.3692, 0.1148],\n",
            "         [0.3430, 0.5337, 0.8697,  ..., 0.3805, 0.9086, 0.1219],\n",
            "         ...,\n",
            "         [0.5783, 0.1764, 0.5656,  ..., 0.3075, 0.0482, 0.2547],\n",
            "         [0.8921, 0.2354, 0.8930,  ..., 0.9426, 0.9898, 0.3402],\n",
            "         [0.9503, 0.2805, 0.7728,  ..., 0.6669, 0.6923, 0.6081]]]) \n",
            "\n",
            "torch.Size([1, 20]) \n",
            "\n",
            "torch.Size([20]) \n",
            "\n",
            "tensor([[0.9595, 0.6804, 0.7525],\n",
            "        [0.3462, 0.6816, 0.7475],\n",
            "        [0.8048, 0.6805, 0.6754],\n",
            "        [0.7080, 0.1422, 0.7200],\n",
            "        [0.5164, 0.3350, 0.1107],\n",
            "        [0.1027, 0.5759, 0.5720]])\n"
          ]
        }
      ]
    },
    {
      "cell_type": "markdown",
      "source": [
        "**Copying Tensors**"
      ],
      "metadata": {
        "id": "0NBBIYOLdZoB"
      }
    },
    {
      "cell_type": "code",
      "source": [
        "a = torch.ones(2, 2)\n",
        "b=a\n",
        "a[0][1] = 561 # we change a...\n",
        "print(b) # ...and b is also altered\n"
      ],
      "metadata": {
        "colab": {
          "base_uri": "https://localhost:8080/"
        },
        "id": "Qs_19q76ddVX",
        "outputId": "d2d30c4b-513f-4e5c-b742-cac349d29264"
      },
      "execution_count": 26,
      "outputs": [
        {
          "output_type": "stream",
          "name": "stdout",
          "text": [
            "tensor([[  1., 561.],\n",
            "        [  1.,   1.]])\n"
          ]
        }
      ]
    },
    {
      "cell_type": "code",
      "source": [
        "a = torch.ones(2, 2)\n",
        "b = a.clone()\n",
        "\n",
        "assert b is not a # different objects in memory...\n",
        "print(torch.eq(a,b)) # ...but still with the same contents!\n",
        "a[0][1] = 561 # a changes...\n",
        "print(b)   # ...but b is still all ones\n",
        "\n",
        "\n",
        "\n",
        "\n",
        ""
      ],
      "metadata": {
        "colab": {
          "base_uri": "https://localhost:8080/"
        },
        "id": "MsK1CZJ-dhQR",
        "outputId": "70d8ec3d-712b-4ab8-c1ff-66350ada5afd"
      },
      "execution_count": 27,
      "outputs": [
        {
          "output_type": "stream",
          "name": "stdout",
          "text": [
            "tensor([[True, True],\n",
            "        [True, True]])\n",
            "tensor([[1., 1.],\n",
            "        [1., 1.]])\n"
          ]
        }
      ]
    },
    {
      "cell_type": "markdown",
      "source": [
        "# Moving to GPU"
      ],
      "metadata": {
        "id": "STdk38FEdkSf"
      }
    },
    {
      "cell_type": "code",
      "source": [
        "if torch.cuda.is_available():\n",
        "    print('We have a GPU!')\n",
        "else:\n",
        "    try:\n",
        "        device = torch.device(\"mps\")\n",
        "        print(\"MPS available!\")\n",
        "    except:\n",
        "        print('Sorry, CPU only.')\n"
      ],
      "metadata": {
        "colab": {
          "base_uri": "https://localhost:8080/"
        },
        "id": "CDOX8Da7dnfx",
        "outputId": "a8c1dacd-8aaa-43bb-82ed-a7f059f35dab"
      },
      "execution_count": 28,
      "outputs": [
        {
          "output_type": "stream",
          "name": "stdout",
          "text": [
            "MPS available!\n"
          ]
        }
      ]
    },
    {
      "cell_type": "code",
      "source": [
        "import torch\n",
        "\n",
        "if torch.cuda.is_available():\n",
        "    my_device = torch.device('cuda')\n",
        "elif torch.backends.mps.is_available():\n",
        "    try:\n",
        "        my_device = torch.device(\"mps\")\n",
        "    except Exception as e:\n",
        "        print(f\"MPS is available but encountered an issue: {e}\")\n",
        "        my_device = torch.device('cpu')\n",
        "else:\n",
        "    my_device = torch.device('cpu')\n",
        "\n",
        "# Try to create the tensor and handle potential issues with MPS\n",
        "try:\n",
        "    x = torch.rand(2, 2, device=my_device)\n",
        "    print(x)\n",
        "except NotImplementedError as e:\n",
        "    print(f\"Operation not supported on {my_device}, falling back to CPU. Error: {e}\")\n",
        "    my_device = torch.device('cpu')\n",
        "    x = torch.rand(2, 2, device=my_device)\n",
        "    print(x)\n"
      ],
      "metadata": {
        "colab": {
          "base_uri": "https://localhost:8080/"
        },
        "id": "GWyPKDV-dwTW",
        "outputId": "b83cf4b9-49c1-4066-cb65-304114105d25"
      },
      "execution_count": 30,
      "outputs": [
        {
          "output_type": "stream",
          "name": "stdout",
          "text": [
            "tensor([[0.0948, 0.9340],\n",
            "        [0.8146, 0.6878]])\n"
          ]
        }
      ]
    },
    {
      "cell_type": "code",
      "source": [
        "y = torch.rand(2, 2)\n",
        "y = y.to(my_device)\n"
      ],
      "metadata": {
        "id": "vEt0PQUjeJDb"
      },
      "execution_count": 31,
      "outputs": []
    },
    {
      "cell_type": "markdown",
      "source": [
        "# Numpy Bridge"
      ],
      "metadata": {
        "id": "fgcLNn1ZeRCJ"
      }
    },
    {
      "cell_type": "code",
      "source": [
        "import numpy as np\n",
        "import torch\n",
        "\n",
        "# Creating a NumPy array\n",
        "numpy_array = np.ones((2, 3))\n",
        "print(\"NumPy Array:\")\n",
        "print(numpy_array)\n",
        "\n",
        "# Converting NumPy array to PyTorch tensor\n",
        "pytorch_tensor = torch.from_numpy(numpy_array)\n",
        "print(\"\\nPyTorch Tensor:\")\n",
        "print(pytorch_tensor)\n",
        "\n",
        "# Creating a random PyTorch tensor\n",
        "pytorch_rand = torch.rand(2, 3)\n",
        "print(\"\\nRandom PyTorch Tensor:\")\n",
        "print(pytorch_rand)\n",
        "\n",
        "# Converting PyTorch tensor to NumPy array\n",
        "numpy_rand = pytorch_rand.numpy()\n",
        "print(\"\\nConverted NumPy Array:\")\n",
        "print(numpy_rand)\n",
        "\n",
        "# Changes to NumPy array reflect in the PyTorch tensor and vice versa\n",
        "numpy_array[1, 1] = 23\n",
        "print(\"\\nUpdated PyTorch Tensor from NumPy Array:\")\n",
        "print(pytorch_tensor)\n",
        "\n",
        "pytorch_rand[1, 1] = 17\n",
        "print(\"\\nUpdated NumPy Array from PyTorch Tensor:\")\n",
        "print(numpy_rand)\n"
      ],
      "metadata": {
        "colab": {
          "base_uri": "https://localhost:8080/"
        },
        "id": "lRwjXTgteUmv",
        "outputId": "f41f45cf-2184-4fc4-899b-5d5d5c4c3d8e"
      },
      "execution_count": 32,
      "outputs": [
        {
          "output_type": "stream",
          "name": "stdout",
          "text": [
            "NumPy Array:\n",
            "[[1. 1. 1.]\n",
            " [1. 1. 1.]]\n",
            "\n",
            "PyTorch Tensor:\n",
            "tensor([[1., 1., 1.],\n",
            "        [1., 1., 1.]], dtype=torch.float64)\n",
            "\n",
            "Random PyTorch Tensor:\n",
            "tensor([[0.0657, 0.6053, 0.7513],\n",
            "        [0.3740, 0.3623, 0.2364]])\n",
            "\n",
            "Converted NumPy Array:\n",
            "[[0.06566584 0.6053149  0.75132155]\n",
            " [0.3739767  0.36231697 0.23642415]]\n",
            "\n",
            "Updated PyTorch Tensor from NumPy Array:\n",
            "tensor([[ 1.,  1.,  1.],\n",
            "        [ 1., 23.,  1.]], dtype=torch.float64)\n",
            "\n",
            "Updated NumPy Array from PyTorch Tensor:\n",
            "[[ 0.06566584  0.6053149   0.75132155]\n",
            " [ 0.3739767  17.          0.23642415]]\n"
          ]
        }
      ]
    },
    {
      "cell_type": "code",
      "source": [
        "numpy_array[1, 1] = 23\n",
        "print(pytorch_tensor,\"\\n\")\n",
        "pytorch_rand[1, 1] = 17\n",
        "print(numpy_rand)"
      ],
      "metadata": {
        "colab": {
          "base_uri": "https://localhost:8080/"
        },
        "id": "HZoZ5fjjedWd",
        "outputId": "01a506c7-bbb6-40a8-dfcd-2ee3334396d3"
      },
      "execution_count": 33,
      "outputs": [
        {
          "output_type": "stream",
          "name": "stdout",
          "text": [
            "tensor([[ 1.,  1.,  1.],\n",
            "        [ 1., 23.,  1.]], dtype=torch.float64) \n",
            "\n",
            "[[ 0.06566584  0.6053149   0.75132155]\n",
            " [ 0.3739767  17.          0.23642415]]\n"
          ]
        }
      ]
    },
    {
      "cell_type": "markdown",
      "source": [
        "# Questions"
      ],
      "metadata": {
        "id": "Wm9dZbmEelgf"
      }
    },
    {
      "cell_type": "markdown",
      "source": [
        "**1.Obtain a tensor containing only zeroes from the given tensor**"
      ],
      "metadata": {
        "id": "9WedUrCwepGX"
      }
    },
    {
      "cell_type": "code",
      "source": [
        "pattern = torch.tensor([\n",
        "    [1, 1, 1, 1],\n",
        "    [1, 0, 0, 1],\n",
        "    [1, 0, 0, 1],\n",
        "    [1, 1, 1, 1]\n",
        "])"
      ],
      "metadata": {
        "id": "zeVhqd62esGZ"
      },
      "execution_count": 34,
      "outputs": []
    },
    {
      "cell_type": "markdown",
      "source": [
        "**2.Create a Numpy array of shape (1,3,3) using PyTorch**"
      ],
      "metadata": {
        "id": "Kl32W8ROe6MJ"
      }
    },
    {
      "cell_type": "code",
      "source": [
        "# Create a PyTorch tensor of shape (1, 3, 3)\n",
        "tensor = torch.rand(1, 3, 3)\n",
        "\n",
        "# Convert the PyTorch tensor to a NumPy array\n",
        "numpy_array = tensor.numpy()\n",
        "\n",
        "print(numpy_array)\n",
        "print(numpy_array.shape)"
      ],
      "metadata": {
        "colab": {
          "base_uri": "https://localhost:8080/"
        },
        "id": "_vcQt_zWfCXj",
        "outputId": "c64ddccd-7ef3-44a4-8e0d-a5d69d260a27"
      },
      "execution_count": 35,
      "outputs": [
        {
          "output_type": "stream",
          "name": "stdout",
          "text": [
            "[[[0.91326284 0.66957337 0.69045967]\n",
            "  [0.7940236  0.9694786  0.3223291 ]\n",
            "  [0.22728765 0.11060762 0.039702  ]]]\n",
            "(1, 3, 3)\n"
          ]
        }
      ]
    },
    {
      "cell_type": "markdown",
      "source": [
        "**3.Create two random (2,2,2) tensors and find the max, min, mean, std of their product (matrix multiplication)**"
      ],
      "metadata": {
        "id": "Lezqqmx8gNA9"
      }
    },
    {
      "cell_type": "code",
      "source": [
        "import numpy as np\n",
        "\n",
        "# Step 1: Create two random (2,2,2) tensors\n",
        "tensor1 = np.random.rand(2, 2, 2)\n",
        "tensor2 = np.random.rand(2, 2, 2)\n",
        "\n",
        "# Step 2: Perform matrix multiplication\n",
        "result_tensor = np.array([np.matmul(tensor1[i], tensor2[i]) for i in range(2)])\n",
        "\n",
        "# Flatten the result tensor to compute statistics\n",
        "flattened_result = result_tensor.flatten()\n",
        "\n",
        "# Step 3: Compute statistics\n",
        "max_value = np.max(flattened_result)\n",
        "min_value = np.min(flattened_result)\n",
        "mean_value = np.mean(flattened_result)\n",
        "std_value = np.std(flattened_result)\n",
        "\n",
        "max_value, min_value, mean_value, std_value\n"
      ],
      "metadata": {
        "colab": {
          "base_uri": "https://localhost:8080/"
        },
        "id": "hr1k1xIsgOhH",
        "outputId": "c306adf0-5e28-4f3c-fd08-c587c952c61a"
      },
      "execution_count": 36,
      "outputs": [
        {
          "output_type": "execute_result",
          "data": {
            "text/plain": [
              "(0.8513975949925369,\n",
              " 0.1721895145844294,\n",
              " 0.4985032699227055,\n",
              " 0.20700699761447994)"
            ]
          },
          "metadata": {},
          "execution_count": 36
        }
      ]
    },
    {
      "cell_type": "markdown",
      "source": [
        "**Convert a 16x16 tensor into 1x256 tensor**"
      ],
      "metadata": {
        "id": "DUohaa6ag3dB"
      }
    },
    {
      "cell_type": "code",
      "source": [
        "import numpy as np\n",
        "\n",
        "# Create a random 16x16 tensor\n",
        "tensor = np.random.rand(16, 16)\n",
        "\n",
        "# Flatten the tensor to 1x256\n",
        "flattened_tensor = tensor.flatten().reshape(1, 256)\n",
        "\n",
        "print(\"Flattened Tensor Shape:\", flattened_tensor.shape)\n",
        "print(flattened_tensor)\n"
      ],
      "metadata": {
        "colab": {
          "base_uri": "https://localhost:8080/"
        },
        "id": "FD6kBC4Sg4pW",
        "outputId": "3dcd3eaa-6474-425f-d2af-2b702a01287b"
      },
      "execution_count": 37,
      "outputs": [
        {
          "output_type": "stream",
          "name": "stdout",
          "text": [
            "Flattened Tensor Shape: (1, 256)\n",
            "[[0.07323279 0.22197142 0.15565212 0.70231586 0.22719002 0.32426555\n",
            "  0.18944969 0.91959399 0.9371159  0.02631184 0.18588095 0.27160856\n",
            "  0.66612932 0.82438139 0.04121301 0.96633816 0.76474995 0.25888416\n",
            "  0.29541691 0.20507255 0.28495448 0.6572825  0.14166796 0.29020411\n",
            "  0.88787394 0.89450302 0.26266661 0.15873283 0.3582382  0.63293882\n",
            "  0.00594315 0.4151521  0.69432599 0.88953629 0.356736   0.27681136\n",
            "  0.81912481 0.24279783 0.73364988 0.76197525 0.13122814 0.41442325\n",
            "  0.67985332 0.82467003 0.37825424 0.10101755 0.15952356 0.0226329\n",
            "  0.25829473 0.56097405 0.14775757 0.07793155 0.45330622 0.31844693\n",
            "  0.43023977 0.68545629 0.85553692 0.23645363 0.43719875 0.79939056\n",
            "  0.46587527 0.18793531 0.15849454 0.03269066 0.04072185 0.79212631\n",
            "  0.53489219 0.53392514 0.12140026 0.09393459 0.83360112 0.89077157\n",
            "  0.47579444 0.94834505 0.40390337 0.3663254  0.57808102 0.06469804\n",
            "  0.04807491 0.82010251 0.00160531 0.43750202 0.72305546 0.34597247\n",
            "  0.89362948 0.36017953 0.25163401 0.62933784 0.84428783 0.65942557\n",
            "  0.10352475 0.90381796 0.86651562 0.19946625 0.5121529  0.72790379\n",
            "  0.05750413 0.44607465 0.26145524 0.45826112 0.9419086  0.18831094\n",
            "  0.32194172 0.21848832 0.26929219 0.62799108 0.06573087 0.16515305\n",
            "  0.07548357 0.32442934 0.84701184 0.58816867 0.76482033 0.82181608\n",
            "  0.78923984 0.5035809  0.63836884 0.12403216 0.46248831 0.16515013\n",
            "  0.70093725 0.64750147 0.8888553  0.83776572 0.44496962 0.38748494\n",
            "  0.89985648 0.36804753 0.60063781 0.09085637 0.0580086  0.70321235\n",
            "  0.33291985 0.3960352  0.56790571 0.23373523 0.94442069 0.31657392\n",
            "  0.50578705 0.76185146 0.24787444 0.89360821 0.67004302 0.94372003\n",
            "  0.28293295 0.89154142 0.1810701  0.22484927 0.52637572 0.74293535\n",
            "  0.24069366 0.26362588 0.40747228 0.71348823 0.27849522 0.63550811\n",
            "  0.91091595 0.44347963 0.00477502 0.61005496 0.58237958 0.6373586\n",
            "  0.56418053 0.34752853 0.1711859  0.75040407 0.01532249 0.5772252\n",
            "  0.59217751 0.27552365 0.80073408 0.1345596  0.4433439  0.22167435\n",
            "  0.07904825 0.68604491 0.82703098 0.75809916 0.33156751 0.92417674\n",
            "  0.69635857 0.63530414 0.91568979 0.11068635 0.75755634 0.18853246\n",
            "  0.83436606 0.77905775 0.10166603 0.07414777 0.62108406 0.47927803\n",
            "  0.21870274 0.08085324 0.73176449 0.03989923 0.8588743  0.35937295\n",
            "  0.6635203  0.42508468 0.62899489 0.35040238 0.02227611 0.62179922\n",
            "  0.75131805 0.50867467 0.62683729 0.70779059 0.0127626  0.90771836\n",
            "  0.49780136 0.93171346 0.44629768 0.10051605 0.55132242 0.41620392\n",
            "  0.21703571 0.17536438 0.15922755 0.5714204  0.78873956 0.37050139\n",
            "  0.51891343 0.54870293 0.39563762 0.16031668 0.41373237 0.765163\n",
            "  0.27436001 0.05823278 0.57805489 0.01408309 0.1218736  0.05341226\n",
            "  0.20566465 0.52269577 0.22826735 0.04805232 0.61423728 0.05580701\n",
            "  0.54492937 0.53621774 0.55417713 0.46598047 0.97778836 0.96523987\n",
            "  0.59204796 0.16506564 0.0661418  0.39991323 0.77343052 0.59985731\n",
            "  0.68137348 0.60677397 0.48600975 0.18823683]]\n"
          ]
        }
      ]
    },
    {
      "cell_type": "markdown",
      "source": [
        "\n",
        "**Given two tensors x and Y, find the coefficients that best model the linear relationship Y = ax + b (Linear Regression)**\n"
      ],
      "metadata": {
        "id": "ZIGOVR0vhUsq"
      }
    },
    {
      "cell_type": "code",
      "source": [
        "import numpy as np\n",
        "\n",
        "# Example tensors\n",
        "x = np.array([1, 2, 3, 4, 5])  # Replace with your tensor x\n",
        "Y = np.array([2, 4, 6, 8, 10])  # Replace with your tensor Y\n",
        "\n",
        "# Step 1: Create the design matrix X\n",
        "X = np.vstack([x, np.ones_like(x)]).T\n",
        "\n",
        "# Step 2: Compute the coefficients using the normal equation\n",
        "# theta = (X^T X)^(-1) X^T Y\n",
        "theta = np.linalg.inv(X.T @ X) @ X.T @ Y\n",
        "\n",
        "# Extract the coefficients\n",
        "a, b = theta\n",
        "\n",
        "print(\"Coefficient a:\", a)\n",
        "print(\"Intercept b:\", b)\n"
      ],
      "metadata": {
        "colab": {
          "base_uri": "https://localhost:8080/"
        },
        "id": "5kYPv8X4ha6m",
        "outputId": "69ae8561-084b-4b67-eb5d-d871b7275a99"
      },
      "execution_count": 38,
      "outputs": [
        {
          "output_type": "stream",
          "name": "stdout",
          "text": [
            "Coefficient a: 1.9999999999999996\n",
            "Intercept b: 4.884981308350689e-15\n"
          ]
        }
      ]
    }
  ]
}